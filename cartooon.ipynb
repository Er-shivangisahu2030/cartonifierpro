{
 "cells": [
  {
   "cell_type": "code",
   "execution_count": 8,
   "id": "ca9365fd-871e-4dd3-bc17-d7d2ea545006",
   "metadata": {},
   "outputs": [],
   "source": [
    "import cv2\n",
    "import numpy as np\n",
    "\n",
    "def cartoonify_image(image_path):\n",
    "    # Read the image\n",
    "    img = cv2.imread(image_path)\n",
    "    \n",
    "    # Check if the image was loaded correctly\n",
    "    if img is None:\n",
    "        print(\"Error: Could not load image. Please check the file path.\")\n",
    "        return\n",
    "    \n",
    "    # Convert to grayscale\n",
    "    gray = cv2.cvtColor(img, cv2.COLOR_BGR2GRAY)\n",
    "    \n",
    "    # Apply median blur\n",
    "    gray = cv2.medianBlur(gray, 5)\n",
    "    \n",
    "    # Detect edges using adaptive thresholding\n",
    "    edges = cv2.adaptiveThreshold(gray, 255, \n",
    "                                  cv2.ADAPTIVE_THRESH_MEAN_C, \n",
    "                                  cv2.THRESH_BINARY, 9, 9)\n",
    "    \n",
    "    # Apply bilateral filter to smooth the image while preserving edges\n",
    "    color = cv2.bilateralFilter(img, 9, 300, 300)\n",
    "    \n",
    "    # Color quantization for color correction\n",
    "    data = np.float32(color).reshape((-1, 3))\n",
    "    k = 8  # Number of colors\n",
    "    criteria = (cv2.TERM_CRITERIA_EPS + cv2.TERM_CRITERIA_MAX_ITER, 10, 1.0)\n",
    "    _, labels, centers = cv2.kmeans(data, k, None, criteria, 10, cv2.KMEANS_RANDOM_CENTERS)\n",
    "    \n",
    "    # Convert back to uint8 and reshape\n",
    "    centers = np.uint8(centers)\n",
    "    quantized_color = centers[labels.flatten()]\n",
    "    quantized_color = quantized_color.reshape(color.shape)\n",
    "    \n",
    "    # Combine edges and quantized color image\n",
    "    cartoon = cv2.bitwise_and(quantized_color, quantized_color, mask=edges)\n",
    "    \n",
    "    # Display the original and cartoon images\n",
    "    cv2.imshow(\"Original Image\", img)\n",
    "    cv2.imshow(\"Cartoon Image\", cartoon)\n",
    "    cv2.waitKey(0)\n",
    "    cv2.destroyAllWindows()\n",
    "\n",
    "# Example usage\n",
    "cartoonify_image(\"mymy.jpg\")"
   ]
  },
  {
   "cell_type": "code",
   "execution_count": null,
   "id": "d89546d7-c8e6-4b3f-a480-dd95f50e5f37",
   "metadata": {},
   "outputs": [],
   "source": []
  }
 ],
 "metadata": {
  "kernelspec": {
   "display_name": "Python 3 (ipykernel)",
   "language": "python",
   "name": "python3"
  },
  "language_info": {
   "codemirror_mode": {
    "name": "ipython",
    "version": 3
   },
   "file_extension": ".py",
   "mimetype": "text/x-python",
   "name": "python",
   "nbconvert_exporter": "python",
   "pygments_lexer": "ipython3",
   "version": "3.12.4"
  }
 },
 "nbformat": 4,
 "nbformat_minor": 5
}
